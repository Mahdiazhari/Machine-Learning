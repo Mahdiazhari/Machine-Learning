{
 "cells": [
  {
   "cell_type": "markdown",
   "metadata": {},
   "source": [
    "# Mahdiazhari Austian\n",
    "# 11206004\n"
   ]
  },
  {
   "cell_type": "markdown",
   "metadata": {},
   "source": [
    "# Graded Lab Assignment 2: Evaluate classifiers (10 points)\n",
    " \n",
    "In this assignment you will optimize and compare the perfomance of a parametric (logistic regression) and non-parametric (k-nearest neighbours) classifier on the MNIST dataset.\n",
    "\n",
    "Publish your notebook (ipynb file) to your Machine Learning repository on Github ON TIME. We will check the last commit on the day of the deadline.  \n",
    "\n",
    "### Deadline Friday, November 17, 23:59.\n",
    "\n",
    "This notebook consists of three parts: design, implementation, results & analysis. \n",
    "We provide you with the design of the experiment and you have to implement it and analyse the results.\n",
    "\n",
    "### Criteria used for grading\n",
    "* Explain and analyse all results.\n",
    "* Make your notebook easy to read. When you are finished take your time to review it!\n",
    "* You do not want to repeat the same chunks of code multiply times. If your need to do so, write a function. \n",
    "* The implementation part of this assignment needs careful design before you start coding. You could start by writing pseudocode.\n",
    "* In this exercise the insights are important. Do not hide them somewhere in the comments in the implementation, but put them in the Analysis part\n",
    "* Take care that all the figures and tables are well labeled and numbered so that you can easily refer to them.\n",
    "* A plot should have a title and axes labels.\n",
    "* You may find that not everything is 100% specified in this assignment. That is correct! Like in real life you probably have to make some choices. Motivate your choices.\n"
   ]
  },
  {
   "cell_type": "markdown",
   "metadata": {},
   "source": [
    "### Grading points distribution\n",
    "\n",
    "* Implementation 5 points\n",
    "* Results and analysis 5 points"
   ]
  },
  {
   "cell_type": "markdown",
   "metadata": {},
   "source": [
    "## Design of the experiment"
   ]
  },
  {
   "cell_type": "markdown",
   "metadata": {},
   "source": [
    "You do not have to keep the order of this design and are allowed to alter it if you are confident.\n",
    "* Import all necessary modules. Try to use as much of the available functions as possible. \n",
    "* Use the provided train and test set of MNIST dataset.\n",
    "* Pre-process data eg. normalize/standardize, reformat, etc.           \n",
    "  Do whatever you think is necessary and motivate your choices.\n",
    "* (1) Train logistic regression and k-nn using default settings.\n",
    "* Use 10-fold cross validation for each classifier to optimize the performance for one parameter: \n",
    "    * consult the documentation on how cross validation works in sklearn (important functions:             cross_val_score(), GridSearchCV()).\n",
    "    * Optimize k for k-nn,\n",
    "    * for logistic regression focus on the regularization parameter,\n",
    "* (2) Train logistic regression and k-nn using optimized parameters.\n",
    "* Show performance on the cross-validation set for (1) and (2) for both classifiers: \n",
    "    * report the average cross validation error rates (alternatively, the average accuracies - it's up to you) and standard deviation,\n",
    "    * plot the average cross valildation errors (or accuracies) for different values of the parameter that you tuned. \n",
    "* Compare performance on the test set for two classifiers:\n",
    "    * produce the classification report for both classifiers, consisting of precision, recall, f1-score. Explain and analyse the results.\n",
    "    * print confusion matrix for both classifiers and compare whether they missclassify the same  classes. Explain and analyse the results.\n",
    "* Discuss your results.\n",
    "90* BONUS: only continue with this part if you are confident that your implemention is complete \n",
    "    * tune more parameters of logistic regression\n",
    "    * add additional classifiers (NN, Naive Bayes, decision tree), \n",
    "    * analyse additional dataset (ex. Iris dataset)"
   ]
  },
  {
   "cell_type": "markdown",
   "metadata": {},
   "source": [
    "# Imports Section"
   ]
  },
  {
   "cell_type": "code",
   "execution_count": 62,
   "metadata": {
    "collapsed": false
   },
   "outputs": [
    {
     "name": "stdout",
     "output_type": "stream",
     "text": [
      "Populating the interactive namespace from numpy and matplotlib\n"
     ]
    }
   ],
   "source": [
    "\n",
    "%pylab inline\n",
    "\n",
    "\n",
    "from sklearn.datasets import load_digits\n",
    "from sklearn.linear_model import LogisticRegression #logistic regression classifier\n",
    "from sklearn.preprocessing import StandardScaler # to normalize data\n",
    "from sklearn.neighbors import KNeighborsClassifier #K classifier\n",
    "from sklearn.model_selection import cross_val_score  # for 10-fold cross validation\n",
    "from sklearn.model_selection import GridSearchCV  # for 10-fold cross validation\n",
    "from sklearn.metrics import classification_report,confusion_matrix, accuracy_score  #for making the reports\n"
   ]
  },
  {
   "cell_type": "markdown",
   "metadata": {},
   "source": [
    "# Implementation of the experiment"
   ]
  },
  {
   "cell_type": "markdown",
   "metadata": {},
   "source": [
    "## Motivation behind pre-processing:\n",
    "We are going to use Logistic regression and K nearest neighbors algorithms, and both of these algorithms need standardization. Standardization will help logistic regression get to convergence faster, and it will also help increase the performance of the k nearest neighbors"
   ]
  },
  {
   "cell_type": "code",
   "execution_count": 49,
   "metadata": {
    "collapsed": false
   },
   "outputs": [],
   "source": [
    "\n",
    "# load mnist dataset and split in train and test set.\n",
    "\n",
    "digits = load_digits()\n",
    "X_train_mnist = reshape(digits.images[:1500],(1500,64))\n",
    "X_test_mnist = reshape(digits.images[1500:],(297,64))\n",
    "y_train_mnist = digits.target[:1500]\n",
    "y_test_mnist = digits.target[1500:]\n",
    "\n",
    "\n",
    "#Perform pre-processing of the Data\n",
    "scaler = StandardScaler()     \n",
    "scaler.fit(X_train_mnist)\n",
    "X_train_mnist = scaler.transform(X_train_mnist)\n",
    "X_test_mnist = scaler.transform(X_test_mnist)\n"
   ]
  },
  {
   "cell_type": "markdown",
   "metadata": {},
   "source": [
    "## 1.  Training logistic regression and k-nn using default settings.\n",
    "From the sklearn documentations, the default value for the logistic regression's regularization parameter is 1.0. While the default number of neighbors value for the K Nearest Neighbors is 5 (k's default value)."
   ]
  },
  {
   "cell_type": "code",
   "execution_count": 50,
   "metadata": {
    "collapsed": false
   },
   "outputs": [],
   "source": [
    "log_r = LogisticRegression()\n",
    "k_nn = KNeighborsClassifier()\n"
   ]
  },
  {
   "cell_type": "markdown",
   "metadata": {},
   "source": [
    "### 10-Fold CV \n",
    "Because the 10-Fold CV will be used for different classifiers, implementing a function is the faster option."
   ]
  },
  {
   "cell_type": "code",
   "execution_count": 51,
   "metadata": {
    "collapsed": false
   },
   "outputs": [
    {
     "name": "stdout",
     "output_type": "stream",
     "text": [
      "The Average of the Logistic Regression:\n",
      "0.943464257824\n",
      "The standard_deviation of the Logistic Regression:\n",
      "0.0222438856371\n",
      "The Average of the K_NN:\n",
      "0.961582938171\n",
      "The standard_deviation of the K_NN:\n",
      "0.026215360812\n"
     ]
    }
   ],
   "source": [
    "\"\"\"\n",
    "This function takes classifier as the type of classifier we want to use and it will return the average score\n",
    "and the standard deviation of the cross validation scores. We use cv=10 in this assignment.\n",
    "\"\"\"\n",
    "def cross_validate(classifier,x,y):\n",
    "    classifier = classifier.fit(X_train_mnist, y_train_mnist)\n",
    "    scores = cross_val_score(classifier,X_train_mnist,y_train_mnist, cv=10)\n",
    "    #getting the average and std of the scores\n",
    "    avg= average(scores)\n",
    "    std=scores.std()\n",
    "    results = [avg, std]\n",
    "    return results\n",
    "\n",
    "log_cross_validate = cross_validate(log_r,X_train_mnist,y_train_mnist)\n",
    "knn_cross_validate = cross_validate(k_nn,X_train_mnist,y_train_mnist)\n",
    "#Testing the cross_validate function\n",
    "print(\"The Average of the Logistic Regression:\")\n",
    "print(log_cross_validate[0])\n",
    "print(\"The standard_deviation of the Logistic Regression:\")\n",
    "print(log_cross_validate[1])\n",
    "print(\"The Average of the K_NN:\")\n",
    "print(knn_cross_validate[0])\n",
    "print(\"The standard_deviation of the K_NN:\")\n",
    "print(knn_cross_validate[1])"
   ]
  },
  {
   "cell_type": "markdown",
   "metadata": {},
   "source": [
    "## Optimizing the k and regularization parameter\n",
    "Using GridSearchCV, I implement a function to compute the most optimal values of each of the parameters, k and C."
   ]
  },
  {
   "cell_type": "code",
   "execution_count": 44,
   "metadata": {
    "collapsed": false
   },
   "outputs": [
    {
     "name": "stdout",
     "output_type": "stream",
     "text": [
      "3\n"
     ]
    },
    {
     "data": {
      "image/png": "[encoded data removed]",
      "text/plain": [
       "<matplotlib.figure.Figure at 0x2231671a240>"
      ]
     },
     "metadata": {},
     "output_type": "display_data"
    }
   ],
   "source": [
    "\"\"\"\n",
    "optimus is a function to obtain the best parameters of a given classifier. \n",
    "\"\"\"\n",
    "def optimus(classifier, parameter_name, param_grid, x, y, x_label):\n",
    "    gs_cv = GridSearchCV(classifier, param_grid=param_grid, cv=10)\n",
    "    gs_cv.fit(x,y)\n",
    "    bests= list(gs_cv.best_params_.values())\n",
    "    plt.plot(param_grid[parameter_name],gs_cv.cv_results_['mean_test_score'])\n",
    "    plt.xlabel(x_label)\n",
    "    plt.ylabel(\"Score\") #also known as the accuracies\n",
    "    return bests[0]\n",
    "\n",
    "#Optimizing k nearest neighbors \n",
    "parameters_k = {'n_neighbors': np.arange(2, 30)} #random range of k values from 2 to 30\n",
    "optimized_k = optimus(KNeighborsClassifier(), 'n_neighbors', parameters_k, X_train_mnist, y_train_mnist,\"K\")\n",
    "print(optimized_k)"
   ]
  },
  {
   "cell_type": "markdown",
   "metadata": {},
   "source": [
    "### Sklearn Logistic Regression Notes\n",
    "For the logistic regression, the function uses a C instead of a lambda, C is the inverse of lambda (inverse of the regularization parameter). Aside from that, it is basically the lambda in the formulas."
   ]
  },
  {
   "cell_type": "code",
   "execution_count": 45,
   "metadata": {
    "collapsed": false
   },
   "outputs": [
    {
     "name": "stdout",
     "output_type": "stream",
     "text": [
      "0.267894736842\n"
     ]
    },
    {
     "data": {
      "image/png": "[encoded data removed]",
      "text/plain": [
       "<matplotlib.figure.Figure at 0x223167a5710>"
      ]
     },
     "metadata": {},
     "output_type": "display_data"
    }
   ],
   "source": [
    "#Optimizing the Logistic Regression\n",
    "minimum = 0.01\n",
    "maximum = 0.50\n",
    "steps = 20\n",
    "C_list = np.linspace(minimum,maximum,num=steps)\n",
    "parameters_C = {'C' : C_list} #dictionary of Cs\n",
    "optimized_C = optimus(LogisticRegression(), 'C', parameters_C, X_train_mnist, y_train_mnist, \"C parameters\") \n",
    "print(optimized_C)"
   ]
  },
  {
   "cell_type": "markdown",
   "metadata": {},
   "source": [
    "## 2.  Training logistic regression and k-nn using optimized parameters"
   ]
  },
  {
   "cell_type": "code",
   "execution_count": 56,
   "metadata": {
    "collapsed": false
   },
   "outputs": [
    {
     "name": "stdout",
     "output_type": "stream",
     "text": [
      "*******LOGISTIC REGRESSION*******\n",
      "Before the optimization:\n",
      "Average of the Log_Regression: 0.9434642578237142 std of the Log_Regression: 0.02224388563710969\n",
      "After the optimization:\n",
      "Average of the Log_Regression: 0.9447458689376826 std of the Log_Regression: 0.020773579104804134\n",
      "****KNN*****\n",
      "Before Optimization:\n",
      "Average: 0.9615829381706359 Std: 0.02621536081196076\n",
      "After Optimization:\n",
      "Average: 0.9615250325819475 Std: 0.02251941870934826\n"
     ]
    }
   ],
   "source": [
    "#The Optimized classifiers\n",
    "optim_log = LogisticRegression(C=optimized_C)\n",
    "optim_knn = KNeighborsClassifier(n_neighbors = optimized_k)\n",
    "\n",
    "optim_log_results = cross_validate(optim_log,X_train_mnist,y_train_mnist)\n",
    "optim_knn_results = cross_validate(optim_knn,X_train_mnist,y_train_mnist)\n",
    "print(\"*******LOGISTIC REGRESSION*******\")\n",
    "print(\"Before the optimization:\")\n",
    "print(\"Average of the Log_Regression: {} std of the Log_Regression: {}\".format(log_cross_validate[0],log_cross_validate[1]))\n",
    "print(\"After the optimization:\")\n",
    "print(\"Average of the Log_Regression: {} std of the Log_Regression: {}\".format(optim_log_results[0],optim_log_results[1])) \n",
    "print(\"****KNN*****\")\n",
    "print(\"Before Optimization:\")\n",
    "print(\"Average: {} Std: {}\".format(knn_cross_validate[0],knn_cross_validate[1]))\n",
    "print(\"After Optimization:\")\n",
    "print(\"Average: {} Std: {}\".format(optim_knn_results[0],optim_knn_results[1]))\n"
   ]
  },
  {
   "cell_type": "markdown",
   "metadata": {},
   "source": [
    "## Classification reports"
   ]
  },
  {
   "cell_type": "code",
   "execution_count": 65,
   "metadata": {
    "collapsed": false
   },
   "outputs": [
    {
     "name": "stdout",
     "output_type": "stream",
     "text": [
      "*****Logistic Regression Report*****\n",
      "             precision    recall  f1-score   support\n",
      "\n",
      "          0       0.89      0.93      0.91        27\n",
      "          1       0.88      0.90      0.89        31\n",
      "          2       1.00      0.96      0.98        27\n",
      "          3       0.90      0.60      0.72        30\n",
      "          4       0.94      0.91      0.92        33\n",
      "          5       0.86      1.00      0.92        30\n",
      "          6       0.94      1.00      0.97        30\n",
      "          7       0.87      0.90      0.89        30\n",
      "          8       0.72      0.93      0.81        28\n",
      "          9       0.92      0.74      0.82        31\n",
      "\n",
      "avg / total       0.89      0.89      0.88       297\n",
      "\n",
      "Accuracy for the Logistic Regression:  0.885521885522\n",
      "\n",
      "\n",
      "*****K_NN Report*****\n",
      "             precision    recall  f1-score   support\n",
      "\n",
      "          0       1.00      1.00      1.00        27\n",
      "          1       0.89      1.00      0.94        31\n",
      "          2       0.93      0.96      0.95        27\n",
      "          3       0.96      0.80      0.87        30\n",
      "          4       1.00      0.88      0.94        33\n",
      "          5       0.88      1.00      0.94        30\n",
      "          6       1.00      1.00      1.00        30\n",
      "          7       0.85      0.97      0.91        30\n",
      "          8       0.93      0.89      0.91        28\n",
      "          9       0.93      0.84      0.88        31\n",
      "\n",
      "avg / total       0.94      0.93      0.93       297\n",
      "\n",
      "Accuracy for the K Nearest Neigbors:  0.93265993266\n"
     ]
    }
   ],
   "source": [
    "print(\"*****Logistic Regression Report*****\")\n",
    "lr_predictions = optim_log.fit(X_train_mnist,y_train_mnist).predict(X_test_mnist)\n",
    "print(classification_report(y_test_mnist,lr_predictions))\n",
    "print(\"Accuracy for the Logistic Regression: \",accuracy_score(y_test_mnist,lr_predictions))\n",
    "print(\"\\n\")\n",
    "print(\"*****K_NN Report*****\")\n",
    "knn_predictions = optim_knn.fit(X_train_mnist,y_train_mnist).predict(X_test_mnist)\n",
    "print(classification_report(y_test_mnist,knn_predictions))\n",
    "print(\"Accuracy for the K Nearest Neigbors: \",accuracy_score(y_test_mnist,knn_predictions))"
   ]
  },
  {
   "cell_type": "markdown",
   "metadata": {},
   "source": [
    "## Analysis of the Classification Reports"
   ]
  },
  {
   "cell_type": "markdown",
   "metadata": {},
   "source": [
    "Overall, the performance of the K Nearest Neighbors classifier is better than the Logistic Regression classsifier. With the K_NN having better precision, recall, f1-score s in general compared to the Logistic Regression. However, we can see that it is not always the case with some labels. For label 2, the Logistic Regression has perfect precision. But the K_NN has 3 labels with perfect precision.\n"
   ]
  },
  {
   "cell_type": "markdown",
   "metadata": {},
   "source": [
    "# Confusion Matrices"
   ]
  },
  {
   "cell_type": "code",
   "execution_count": 67,
   "metadata": {
    "collapsed": false
   },
   "outputs": [
    {
     "name": "stdout",
     "output_type": "stream",
     "text": [
      "Logistic Regression matrix\n",
      "[[25  0  0  0  0  0  2  0  0  0]\n",
      " [ 0 28  0  1  0  0  0  0  2  0]\n",
      " [ 1  0 26  0  0  0  0  0  0  0]\n",
      " [ 0  2  0 18  0  3  0  3  4  0]\n",
      " [ 0  0  0  0 30  0  0  0  1  2]\n",
      " [ 0  0  0  0  0 30  0  0  0  0]\n",
      " [ 0  0  0  0  0  0 30  0  0  0]\n",
      " [ 0  0  0  0  2  0  0 27  1  0]\n",
      " [ 0  2  0  0  0  0  0  0 26  0]\n",
      " [ 2  0  0  1  0  2  0  1  2 23]]\n",
      "\n",
      "\n",
      "K Nearest Neighbors matrix\n",
      "[[27  0  0  0  0  0  0  0  0  0]\n",
      " [ 0 31  0  0  0  0  0  0  0  0]\n",
      " [ 0  1 26  0  0  0  0  0  0  0]\n",
      " [ 0  0  2 24  0  1  0  2  1  0]\n",
      " [ 0  0  0  0 29  0  0  1  1  2]\n",
      " [ 0  0  0  0  0 30  0  0  0  0]\n",
      " [ 0  0  0  0  0  0 30  0  0  0]\n",
      " [ 0  0  0  0  0  1  0 29  0  0]\n",
      " [ 0  3  0  0  0  0  0  0 25  0]\n",
      " [ 0  0  0  1  0  2  0  2  0 26]]\n"
     ]
    }
   ],
   "source": [
    "print(\"Logistic Regression matrix\")\n",
    "print(confusion_matrix(y_test_mnist,lr_predictions))\n",
    "print(\"\\n\")\n",
    "print(\"K Nearest Neighbors matrix\")\n",
    "print(confusion_matrix(y_test_mnist,knn_predictions))"
   ]
  },
  {
   "cell_type": "markdown",
   "metadata": {},
   "source": [
    "## Analysis of Confusion Matrices\n",
    "\n",
    "How to read: the diagonals are the numbers of correct predicted instances. While the numbers besides the diagonals are the incorrect predicted instances (misclassified). From these matrices, they both incorrectly classified labels: 2,3,4,7,8,9. The recall score reflects the number of correctly classified instances. For example, in the Logistic Regression classification report, the recall score for it's class 3 is only 0.60, and this score is reflected in the fact that only 18 instances were correctly classified with the Logistic Regression."
   ]
  },
  {
   "cell_type": "markdown",
   "metadata": {},
   "source": [
    "## Results and analysis of the experiment"
   ]
  },
  {
   "cell_type": "markdown",
   "metadata": {
    "collapsed": true
   },
   "source": [
    "In my implementation, by optimizing the parameters k and C using cross validation methods, I obtained a very slightly better accuracy compared to before optimizing the parameters. The standard deviation was also lower with the optimized parameters, so it shows that using the optimized parameters we have better precision in getting the accuracy.\n",
    "\n",
    "For this dataset, the MNIST, we know that the K Nearest Neighbors is more efficient in dealing with this dataset. Especially because of its higher accuracy score of 0.93 compared to Logistic Regression with only 0.88."
   ]
  },
  {
   "cell_type": "code",
   "execution_count": null,
   "metadata": {
    "collapsed": true
   },
   "outputs": [],
   "source": []
  }
 ],
 "metadata": {
  "anaconda-cloud": {},
  "kernelspec": {
   "display_name": "Python [default]",
   "language": "python",
   "name": "python3"
  },
  "language_info": {
   "codemirror_mode": {
    "name": "ipython",
    "version": 3
   },
   "file_extension": ".py",
   "mimetype": "text/x-python",
   "name": "python",
   "nbconvert_exporter": "python",
   "pygments_lexer": "ipython3",
   "version": "3.5.2"
  }
 },
 "nbformat": 4,
 "nbformat_minor": 2
}
