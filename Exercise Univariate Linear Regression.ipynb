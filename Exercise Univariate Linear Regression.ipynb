{
 "cells": [
  {
   "cell_type": "markdown",
   "metadata": {},
   "source": [
    "# AUC ML EXERCISE - Univariate Linear Regression"
   ]
  },
  {
   "cell_type": "code",
   "execution_count": 5,
   "metadata": {
    "collapsed": false
   },
   "outputs": [
    {
     "name": "stdout",
     "output_type": "stream",
     "text": [
      "Populating the interactive namespace from numpy and matplotlib\n"
     ]
    }
   ],
   "source": [
    "import numpy as np\n",
    "%pylab inline"
   ]
  },
  {
   "cell_type": "code",
   "execution_count": 7,
   "metadata": {
    "collapsed": false,
    "scrolled": true
   },
   "outputs": [
    {
     "data": {
      "image/png": "[encoded data removed]",
      "text/plain": [
       "<matplotlib.figure.Figure at 0x1a3b2484cc0>"
      ]
     },
     "metadata": {},
     "output_type": "display_data"
    }
   ],
   "source": [
    "m = 100;\n",
    "a = 0.5\n",
    "b = 2\n",
    "x = linspace(0,10,m)\n",
    "y = a * x + b + 0.3 * random.randn(m)\n",
    "plot(x, y, 'r+');"
   ]
  },
  {
   "cell_type": "code",
   "execution_count": 8,
   "metadata": {
    "collapsed": false
   },
   "outputs": [],
   "source": [
    "def cost(theta0, theta1, x, y):\n",
    "    #your code here\n",
    "    h0 = theta0 + (theta1*x)\n",
    "    inner = power(((h0.T) - y), 2)\n",
    "    return sum(inner)/(2*len(x))"
   ]
  },
  {
   "cell_type": "code",
   "execution_count": 9,
   "metadata": {
    "collapsed": false
   },
   "outputs": [
    {
     "name": "stdout",
     "output_type": "stream",
     "text": [
      "0.045 0.0432107985565\n"
     ]
    }
   ],
   "source": [
    "print(0.3**2/2,cost(b,a,x,y))"
   ]
  },
  {
   "cell_type": "code",
   "execution_count": 10,
   "metadata": {
    "collapsed": false
   },
   "outputs": [
    {
     "name": "stdout",
     "output_type": "stream",
     "text": [
      "<class 'numpy.ndarray'>\n",
      "<class 'numpy.ndarray'>\n",
      "(100,)\n",
      "(100,)\n"
     ]
    }
   ],
   "source": [
    "print(type(x))\n",
    "print(type(y))\n",
    "print(shape(y))\n",
    "print(shape(x))"
   ]
  },
  {
   "cell_type": "code",
   "execution_count": 20,
   "metadata": {
    "collapsed": false
   },
   "outputs": [],
   "source": [
    "def gradDescentStep(learningrate, theta0, theta1, x, y):\n",
    "    #your code here\n",
    "    h0 = theta0 + (theta1*x)#vector what function predicts\n",
    "    inner = (h0 - y) #vector\n",
    "    temp0 = theta0 - learningrate*((1/len(x))*sum(1*inner))\n",
    "    temp1 = theta1 - learningrate*((1/len(x))*sum(x*inner))\n",
    "    theta0 = temp0\n",
    "    theta1 = temp1\n",
    "    print( inner)\n",
    "    return theta0, theta1"
   ]
  },
  {
   "cell_type": "code",
   "execution_count": 21,
   "metadata": {
    "collapsed": false
   },
   "outputs": [
    {
     "name": "stdout",
     "output_type": "stream",
     "text": [
      "[-1.91417449 -1.83249736 -1.84739458 -2.33371577 -2.34801984 -1.90906467\n",
      " -2.66307996 -2.3244099  -2.30530533 -2.641581   -2.45739146 -2.60199897\n",
      " -2.51228784 -3.22750922 -3.02442046 -2.41345285 -2.35413564 -3.41845914\n",
      " -2.91739036 -2.78685214 -2.79268896 -2.33617625 -2.89150744 -3.59968045\n",
      " -3.14648114 -3.32228487 -2.87866327 -3.14365725 -3.59067381 -3.13088577\n",
      " -3.46212558 -3.67070895 -3.20204382 -3.29616117 -3.87500249 -3.79572606\n",
      " -3.58903648 -3.66126562 -3.67403511 -3.47921744 -3.75021768 -4.06054737\n",
      " -4.31738511 -4.36889981 -4.16456225 -4.78974085 -4.76985816 -4.60732728\n",
      " -4.29778276 -4.63574859 -4.61434919 -4.85442843 -4.68567085 -5.3060033\n",
      " -4.42304575 -4.26648098 -5.20020548 -4.6473935  -4.92646255 -4.78560304\n",
      " -5.26739319 -5.39337321 -5.46953372 -4.79662792 -5.25275812 -5.12580829\n",
      " -5.41973196 -5.87342257 -5.52524901 -5.33894577 -5.00154935 -5.72006578\n",
      " -5.5870007  -5.76030473 -5.26684501 -5.77366648 -5.62689094 -5.12227315\n",
      " -5.98726183 -6.29277604 -5.83671241 -6.11427912 -6.54118351 -6.51884852\n",
      " -5.82707667 -6.13179169 -6.40005086 -6.05521003 -6.12023815 -6.23922913\n",
      " -6.69934612 -6.70662266 -6.56666087 -6.35621161 -6.53883648 -7.08755233\n",
      " -6.73561126 -7.09404238 -7.0094137  -6.52618481]\n",
      "11.0616284146 >= 5.05412227937\n"
     ]
    }
   ],
   "source": [
    "theta0 = theta1 = 0\n",
    "costbefore = cost(theta0, theta1, x, y)\n",
    "theta0, theta1 = gradDescentStep(0.01, theta0, theta1, x, y)\n",
    "costafter = cost(theta0, theta1, x, y)\n",
    "print(costbefore, '>=', costafter)"
   ]
  },
  {
   "cell_type": "code",
   "execution_count": 14,
   "metadata": {
    "collapsed": false
   },
   "outputs": [],
   "source": [
    "def gradDescentStep2(learningrate, theta0, theta1, x, y):\n",
    "    #your code here\n",
    "    h0 = theta0 + (theta1*x)\n",
    "    inner = (h0 - y)\n",
    "    temp0 = theta0 - learningrate*((1/len(x))*dot(1,inner))\n",
    "    temp1 = theta1 - learningrate*((1/len(x))*dot(x,inner))\n",
    "    theta0 = temp0\n",
    "    theta1 = temp1\n",
    "    return theta0, theta1"
   ]
  },
  {
   "cell_type": "code",
   "execution_count": 15,
   "metadata": {
    "collapsed": false
   },
   "outputs": [
    {
     "name": "stdout",
     "output_type": "stream",
     "text": [
      "11.0616284146 >= 5.05412227937\n"
     ]
    }
   ],
   "source": [
    "theta0 = theta1 = 0\n",
    "costbefore = cost(theta0, theta1, x, y)\n",
    "theta0, theta1 = gradDescentStep(0.01, theta0, theta1, x, y)\n",
    "costafter = cost(theta0, theta1, x, y)\n",
    "print(costbefore, '>=', costafter)"
   ]
  },
  {
   "cell_type": "code",
   "execution_count": 34,
   "metadata": {
    "collapsed": false
   },
   "outputs": [
    {
     "ename": "TypeError",
     "evalue": "'tuple' object is not callable",
     "output_type": "error",
     "traceback": [
      "\u001b[0;31m---------------------------------------------------------------------------\u001b[0m",
      "\u001b[0;31mTypeError\u001b[0m                                 Traceback (most recent call last)",
      "\u001b[0;32m<ipython-input-34-15bbc2c5eb7d>\u001b[0m in \u001b[0;36m<module>\u001b[0;34m()\u001b[0m\n\u001b[0;32m----> 1\u001b[0;31m \u001b[0mx\u001b[0m\u001b[1;33m.\u001b[0m\u001b[0mshape\u001b[0m\u001b[1;33m(\u001b[0m\u001b[1;33m)\u001b[0m\u001b[1;33m\u001b[0m\u001b[0m\n\u001b[0m",
      "\u001b[0;31mTypeError\u001b[0m: 'tuple' object is not callable"
     ]
    }
   ],
   "source": []
  },
  {
   "cell_type": "code",
   "execution_count": null,
   "metadata": {
    "collapsed": true
   },
   "outputs": [],
   "source": []
  },
  {
   "cell_type": "code",
   "execution_count": null,
   "metadata": {
    "collapsed": true
   },
   "outputs": [],
   "source": []
  }
 ],
 "metadata": {
  "anaconda-cloud": {},
  "kernelspec": {
   "display_name": "Python [default]",
   "language": "python",
   "name": "python3"
  },
  "language_info": {
   "codemirror_mode": {
    "name": "ipython",
    "version": 3
   },
   "file_extension": ".py",
   "mimetype": "text/x-python",
   "name": "python",
   "nbconvert_exporter": "python",
   "pygments_lexer": "ipython3",
   "version": "3.5.2"
  }
 },
 "nbformat": 4,
 "nbformat_minor": 1
}
